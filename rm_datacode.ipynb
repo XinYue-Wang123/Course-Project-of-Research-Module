{
 "cells": [
  {
   "cell_type": "code",
   "execution_count": 44,
   "metadata": {},
   "outputs": [],
   "source": [
    "# set environment\n",
    "\n",
    "import pandas as pd\n",
    "import numpy as np\n",
    "import re\n"
   ]
  },
  {
   "cell_type": "code",
   "execution_count": 45,
   "metadata": {},
   "outputs": [
    {
     "name": "stdout",
     "output_type": "stream",
     "text": [
      "original data size: (12932, 16) (13048, 17) (433764, 12) (79, 7)\n",
      "keep relevant columns: (12932, 7) (13048, 8) (433764, 7)\n",
      "keep relevant rows: (12872, 7) (12919, 8) (150357, 7)\n"
     ]
    }
   ],
   "source": [
    "# read SNAP and NSC data\n",
    "\n",
    "nsc2010 = pd.read_csv('zaf-nsce-2010-centre-overall-v1.0.csv', encoding='ISO-8859-1')\n",
    "nsc2011 = pd.read_csv('zaf-nsce-2011-centre-overall-v1.0.csv', encoding='ISO-8859-1')\n",
    "masterlist = pd.read_csv('snaps-1997-2013-masterlist-v1.csv', encoding='ISO-8859-1')\n",
    "geoinfo = pd.read_csv('district.csv', encoding='ISO-8859-1')\n",
    "\n",
    "print('original data size:', nsc2010.shape, nsc2011.shape, masterlist.shape, geoinfo.shape)\n",
    "\n",
    "\n",
    "# drop SNAP and NSC irrelevant variables columns\n",
    "\n",
    "masterlist = masterlist[['natemis','datayear','schoolname','phase_doe','eidistrict','quintile','sector']]\n",
    "nsc2010 = nsc2010[['date','emisno','gender','province','regionname','districtname','achieved']]\n",
    "nsc2011 = nsc2011[['date','emisno','gender','province','regionname','districtname','quintile','achieved']]\n",
    "\n",
    "print('keep relevant columns:', nsc2010.shape, nsc2011.shape, masterlist.shape)\n",
    "\n",
    "\n",
    "# drop SNAP and NSC irrelevant observations rows\n",
    "\n",
    "masterlist = masterlist[ (masterlist.sector=='1') & ((masterlist.phase_doe=='4') | (masterlist.phase_doe=='5')) ]\n",
    "nsc2010 = nsc2010[ (nsc2010.achieved.notna()) & (nsc2010.emisno!=0) ]\n",
    "nsc2011 = nsc2011[ (nsc2011.achieved.notna()) & (nsc2011.emisno!=0) ]\n",
    "\n",
    "print('keep relevant rows:', nsc2010.shape, nsc2011.shape, masterlist.shape)\n"
   ]
  },
  {
   "cell_type": "code",
   "execution_count": 46,
   "metadata": {},
   "outputs": [
    {
     "name": "stdout",
     "output_type": "stream",
     "text": [
      "NSC data observations: 6503 6519\n"
     ]
    }
   ],
   "source": [
    "# calculate NSC school achieved rate\n",
    "\n",
    "def passrate(nscyear):\n",
    "\n",
    "    # average school passrate for genders\n",
    "    passrate = nscyear.groupby('emisno')['achieved'].mean()\n",
    "    nscyear['achieved'][nscyear.duplicated('emisno')] = passrate\n",
    "\n",
    "    # keep unique passrate for each emis school\n",
    "    nscyear = nscyear.drop_duplicates('emisno')\n",
    "    nscyear = nscyear.drop(['gender'], axis=1)\n",
    "    \n",
    "    return nscyear\n",
    "\n",
    "nsc2010 = passrate(nsc2010)\n",
    "nsc2011 = passrate(nsc2011)\n",
    "\n",
    "print('NSC data observations:', nsc2010.shape[0], nsc2011.shape[0])\n"
   ]
  },
  {
   "cell_type": "code",
   "execution_count": 47,
   "metadata": {},
   "outputs": [
    {
     "name": "stdout",
     "output_type": "stream",
     "text": [
      "NSC quintile size_1: quintile\n",
      "0.0      773\n",
      "1.0     1494\n",
      "2.0     1268\n",
      "3.0     1391\n",
      "4.0      606\n",
      "5.0      607\n",
      "99.0     307\n",
      "dtype: int64 quintile\n",
      "0      806\n",
      "1     1502\n",
      "2     1278\n",
      "3     1398\n",
      "4      607\n",
      "5      607\n",
      "99     321\n",
      "dtype: int64\n",
      "NSC quintile size_2: quintile\n",
      "1.0     1555\n",
      "2.0     1315\n",
      "3.0     1412\n",
      "4.0      616\n",
      "5.0      611\n",
      "99.0     994\n",
      "dtype: int64 quintile\n",
      "1.0     1559\n",
      "2.0     1323\n",
      "3.0     1417\n",
      "4.0      613\n",
      "5.0      611\n",
      "99.0     996\n",
      "dtype: int64\n"
     ]
    }
   ],
   "source": [
    "# add quintile to NSC2010 from NSC2011\n",
    "\n",
    "nsc2010 = nsc2010.merge(nsc2011[['emisno','quintile']], on=['emisno'], how='left')\n",
    "\n",
    "print('NSC quintile size_1:', nsc2010.groupby('quintile').size(), nsc2011.groupby('quintile').size())\n",
    "\n",
    "\n",
    "# add quintile to NSC2010 NSC2011 from SNAP\n",
    "\n",
    "def quintile(nscyear, snapdata):\n",
    "\n",
    "    # emis in NSC 2010 OR 2011\n",
    "    nscemis = pd.concat([nsc2010.emisno, nsc2011.emisno], ignore_index=True).unique()\n",
    "\n",
    "    # keep SNAP data with relevant NSC emis\n",
    "    snapdata = snapdata[snapdata.natemis.isin(nscemis)]\n",
    "\n",
    "    # keep unique(smallest) quintile for each emis in SNAP\n",
    "    snapdata = snapdata.sort_values('quintile').drop_duplicates('natemis')\n",
    "\n",
    "    # merge SNAP and NSC quintile\n",
    "    snapdata = snapdata.rename(columns={'natemis':'emisno', 'quintile':'quintile_snap'})\n",
    "    nsc_with_q = pd.merge(nscyear, snapdata[['emisno','quintile_snap','eidistrict']], on=['emisno'], how='left')\n",
    "\n",
    "    # replace NSC invalid quintile from SNAP\n",
    "    nsc_with_q.quintile = np.where(nsc_with_q.quintile.isin([1,2,3,4,5]), nsc_with_q.quintile, nsc_with_q.quintile_snap)\n",
    "    nsc_with_q = nsc_with_q.drop(['quintile_snap'], axis=1)\n",
    "\n",
    "    # set NSC invalid quintile to 99\n",
    "    nsc_with_q.quintile = np.where(nsc_with_q.quintile.isin([1,2,3,4,5]), nsc_with_q.quintile, 99)\n",
    "\n",
    "    return nsc_with_q, snapdata\n",
    "\n",
    "nsc2010, snap = quintile(nsc2010, masterlist)\n",
    "nsc2011, masterlist = quintile(nsc2011, masterlist)\n",
    "\n",
    "print('NSC quintile size_2:', nsc2010.groupby('quintile').size(), nsc2011.groupby('quintile').size())\n"
   ]
  },
  {
   "cell_type": "code",
   "execution_count": 48,
   "metadata": {},
   "outputs": [
    {
     "name": "stdout",
     "output_type": "stream",
     "text": [
      "NSC data size: (6503, 6) (6519, 6)\n",
      "NSC district size: provincecode\n",
      "1     661\n",
      "2     658\n",
      "3     214\n",
      "4     236\n",
      "5    1682\n",
      "6     376\n",
      "7     742\n",
      "8     518\n",
      "9    1416\n",
      "dtype: int64 provincecode\n",
      "1     661\n",
      "2     663\n",
      "3     213\n",
      "4     238\n",
      "5    1692\n",
      "6     379\n",
      "7     737\n",
      "8     405\n",
      "9    1531\n",
      "dtype: int64\n"
     ]
    }
   ],
   "source": [
    "# add district to NSC2010 NSC2011\n",
    "\n",
    "def district(nscyear):\n",
    "\n",
    "    # select non-string value in NSC districtname\n",
    "    nonstr = nscyear.districtname.str.findall(r'\\d+').explode().unique()\n",
    "\n",
    "    # replace NSC non-string districtname from SNAP\n",
    "    nscyear.districtname = np.where(nscyear.districtname.isin(nonstr), nscyear.eidistrict, nscyear.districtname)\n",
    "    \n",
    "    # set NSC invalid districtname to 99\n",
    "    nscyear.districtname.replace(np.nan, 99, inplace=True)\n",
    "\n",
    "    # add code by mapping NSC district name\n",
    "    df_district = nscyear[nscyear.districtname.isin(geoinfo.districtname)]\n",
    "    merge_district = df_district.merge(geoinfo[['districtname','code','provincecode']], on=['districtname'], how='left')\n",
    "\n",
    "    # add code by mapping NSC region name\n",
    "    df_region = nscyear.drop(df_district.index)\n",
    "    merge_region = df_region.merge(geoinfo[['regionname','code','provincecode']], on=['regionname'], how='left')\n",
    "    merge_region.drop_duplicates('emisno', inplace=True)\n",
    "\n",
    "    # combine to creat final NSC data\n",
    "    nsc_with_district = pd.concat([merge_district, merge_region], ignore_index=True)\n",
    "    nsc_with_district = nsc_with_district.drop(['regionname','districtname','eidistrict','province'], axis=1)\n",
    "\n",
    "    return nsc_with_district\n",
    "\n",
    "nsc2010 = district(nsc2010)\n",
    "nsc2011 = district(nsc2011)\n",
    "\n",
    "# check NSC district school number\n",
    "\n",
    "print('NSC data size:', nsc2010.shape, nsc2011.shape)\n",
    "print('NSC district size:', nsc2010.groupby('provincecode').size(), nsc2011.groupby('provincecode').size())\n"
   ]
  }
 ],
 "metadata": {
  "kernelspec": {
   "display_name": "base",
   "language": "python",
   "name": "python3"
  },
  "language_info": {
   "codemirror_mode": {
    "name": "ipython",
    "version": 3
   },
   "file_extension": ".py",
   "mimetype": "text/x-python",
   "name": "python",
   "nbconvert_exporter": "python",
   "pygments_lexer": "ipython3",
   "version": "3.9.12"
  },
  "orig_nbformat": 4,
  "vscode": {
   "interpreter": {
    "hash": "b598c97f9af5c8b425adf3c462aa309054b513d4eaff9f9f069a0aeb4b2033cc"
   }
  }
 },
 "nbformat": 4,
 "nbformat_minor": 2
}
